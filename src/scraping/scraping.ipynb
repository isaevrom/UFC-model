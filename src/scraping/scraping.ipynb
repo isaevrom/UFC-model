{
 "cells": [
  {
   "cell_type": "markdown",
   "id": "5b26bd67",
   "metadata": {},
   "source": [
    "# Notebook for scraping UFC-stats pages"
   ]
  },
  {
   "cell_type": "code",
   "execution_count": 889,
   "id": "3983de51",
   "metadata": {},
   "outputs": [],
   "source": [
    "def display_img(src, description=None):\n",
    "    from IPython.display import Image\n",
    "    from IPython.core.display import HTML \n",
    "    if description is not None: print(description)\n",
    "    display(Image(url=src))"
   ]
  },
  {
   "cell_type": "code",
   "execution_count": 890,
   "id": "24d7f876",
   "metadata": {},
   "outputs": [
    {
     "name": "stdout",
     "output_type": "stream",
     "text": [
      "Start url:\n"
     ]
    },
    {
     "data": {
      "text/html": [
       "<img src=\"img/front page urls/start_url.png\"/>"
      ],
      "text/plain": [
       "<IPython.core.display.Image object>"
      ]
     },
     "metadata": {},
     "output_type": "display_data"
    },
    {
     "name": "stdout",
     "output_type": "stream",
     "text": [
      "Second url:\n"
     ]
    },
    {
     "data": {
      "text/html": [
       "<img src=\"img/front page urls/second_url.png\"/>"
      ],
      "text/plain": [
       "<IPython.core.display.Image object>"
      ]
     },
     "metadata": {},
     "output_type": "display_data"
    },
    {
     "name": "stdout",
     "output_type": "stream",
     "text": [
      "Last url:\n"
     ]
    },
    {
     "data": {
      "text/html": [
       "<img src=\"img/front page urls/last_url.png\"/>"
      ],
      "text/plain": [
       "<IPython.core.display.Image object>"
      ]
     },
     "metadata": {},
     "output_type": "display_data"
    }
   ],
   "source": [
    "img_name_prefix = [\"start\", \"second\", \"last\"]\n",
    "for prefix in img_name_prefix:\n",
    "    display_img(src=f\"img/front page urls/{prefix}_url.png\", \n",
    "                description=f\"{prefix.capitalize()} url:\")"
   ]
  },
  {
   "cell_type": "markdown",
   "id": "ec2e1bf1",
   "metadata": {},
   "source": [
    "## As we can see above, pattern of ufc stats urls is clear:\n",
    " - First page has unique url suffix pattern:\n",
    "      - Page &emsp;1: '.../completed'\n",
    " - The rest of urls have a clear suffix pattern: \n",
    "     - Page &emsp;2: '.../completed**?page=2**'\n",
    "     - Page &emsp;3: '.../completed**?page=3**'\n",
    "     - ...\n",
    "     - Page &ensp;24: '.../completed**?page=24**'"
   ]
  },
  {
   "cell_type": "code",
   "execution_count": 891,
   "id": "8221ad15",
   "metadata": {},
   "outputs": [
    {
     "name": "stdout",
     "output_type": "stream",
     "text": [
      "Front page:\n"
     ]
    },
    {
     "data": {
      "text/html": [
       "<img src=\"img/front page/front page.png\"/>"
      ],
      "text/plain": [
       "<IPython.core.display.Image object>"
      ]
     },
     "metadata": {},
     "output_type": "display_data"
    }
   ],
   "source": [
    "front_page_img_name = \"front page\"\n",
    "display_img(src=f\"img/front page/{front_page_img_name}.png\", \n",
    "            description=\"Front page:\")"
   ]
  },
  {
   "cell_type": "code",
   "execution_count": 892,
   "id": "51ba4ece",
   "metadata": {},
   "outputs": [],
   "source": [
    "def get_ufc_front_pages_urls():\n",
    "    import requests\n",
    "\n",
    "    sfx_ptrn = \"?page=\"\n",
    "    suffixes = [''] # initially only 1 element - empty string, because of the unique start\n",
    "    suffixes += [sfx_ptrn + str(i) for i in range(2, 25)] # \n",
    "    # print(suffixes)\n",
    "    url_start = \"http://ufcstats.com/statistics/events/completed{}\" # notice {} at the end\n",
    "\n",
    "    urls = []\n",
    "    \n",
    "    for i, sfx in enumerate(suffixes):\n",
    "        urls.append(url_start.format(sfx))\n",
    "\n",
    "    return urls"
   ]
  },
  {
   "cell_type": "code",
   "execution_count": 893,
   "id": "1611820c",
   "metadata": {},
   "outputs": [],
   "source": [
    "front_pages_urls = get_ufc_front_pages_urls()\n",
    "front_pages_urls;"
   ]
  },
  {
   "cell_type": "markdown",
   "id": "fff0860a",
   "metadata": {},
   "source": [
    "## Let's extract all links of events"
   ]
  },
  {
   "cell_type": "code",
   "execution_count": 894,
   "id": "a7baa238",
   "metadata": {},
   "outputs": [
    {
     "name": "stdout",
     "output_type": "stream",
     "text": [
      "Events page:\n"
     ]
    },
    {
     "data": {
      "text/html": [
       "<img src=\"img/events/events page.png\"/>"
      ],
      "text/plain": [
       "<IPython.core.display.Image object>"
      ]
     },
     "metadata": {},
     "output_type": "display_data"
    },
    {
     "name": "stdout",
     "output_type": "stream",
     "text": [
      "Event link:\n"
     ]
    },
    {
     "data": {
      "text/html": [
       "<img src=\"img/events/event link.png\"/>"
      ],
      "text/plain": [
       "<IPython.core.display.Image object>"
      ]
     },
     "metadata": {},
     "output_type": "display_data"
    }
   ],
   "source": [
    "event_img_names = [\"events page\", \"event link\"]\n",
    "\n",
    "for img_name in event_img_names:\n",
    "    display_img(src=f\"img/events/{img_name}.png\", \n",
    "                description=f\"{img_name.capitalize()}:\")"
   ]
  },
  {
   "cell_type": "code",
   "execution_count": 895,
   "id": "46d6e65f",
   "metadata": {},
   "outputs": [],
   "source": [
    "# gets all events links from particular page\n",
    "def get_events_links(page_url):\n",
    "    from bs4 import BeautifulSoup\n",
    "    \n",
    "    page = requests.get(page_url).text\n",
    "    soup = BeautifulSoup(page, \"html.parser\")\n",
    "    tags_with_events_links = soup.find_all('a', class_=\"b-link b-link_style_black\")\n",
    "    events_links = [i['href'] for i in tags_with_events_links]\n",
    "    \n",
    "    return events_links"
   ]
  },
  {
   "cell_type": "code",
   "execution_count": 896,
   "id": "09df2552",
   "metadata": {},
   "outputs": [],
   "source": [
    "page_event_links_list = [get_events_links(front_page_url) for front_page_url in front_pages_urls]"
   ]
  },
  {
   "cell_type": "code",
   "execution_count": 897,
   "id": "820388de",
   "metadata": {},
   "outputs": [],
   "source": [
    "'''\n",
    "import numpy as np\n",
    "\n",
    "flattened_events_links = np.concatenate(link_lists, axis=0, dtype=\"object\")\n",
    "flattened_events_links.shape\n",
    "''';"
   ]
  },
  {
   "cell_type": "markdown",
   "id": "bc222f84",
   "metadata": {},
   "source": [
    "## We expect links to contain 24 * 25 - 1 links\n",
    "- 24 - number of pages\n",
    "- 25 - number of links per page\n",
    "- 1 &nbsp; - upcoming event on October 10th"
   ]
  },
  {
   "cell_type": "code",
   "execution_count": 898,
   "id": "ebadb25f",
   "metadata": {},
   "outputs": [],
   "source": [
    "assert(24*25 - 1 == sum((len(links) for links in page_event_links_list)))"
   ]
  },
  {
   "cell_type": "markdown",
   "id": "910de5b6",
   "metadata": {},
   "source": [
    "# Every event link points to page with that kind of table:"
   ]
  },
  {
   "cell_type": "code",
   "execution_count": 899,
   "id": "54932bc9",
   "metadata": {},
   "outputs": [
    {
     "name": "stdout",
     "output_type": "stream",
     "text": [
      "Fights of event:\n"
     ]
    },
    {
     "data": {
      "text/html": [
       "<img src=\"img/events/event description.png\"/>"
      ],
      "text/plain": [
       "<IPython.core.display.Image object>"
      ]
     },
     "metadata": {},
     "output_type": "display_data"
    }
   ],
   "source": [
    "display_img('img/events/event description.png', 'Fights of event:')"
   ]
  },
  {
   "cell_type": "markdown",
   "id": "e0c4e5fc",
   "metadata": {},
   "source": [
    "# Proceeding further by clicking on any row leads us to table with fight details:"
   ]
  },
  {
   "cell_type": "code",
   "execution_count": 900,
   "id": "b2ac6521",
   "metadata": {},
   "outputs": [
    {
     "name": "stdout",
     "output_type": "stream",
     "text": [
      "Fight details:\n"
     ]
    },
    {
     "data": {
      "text/html": [
       "<img src=\"img/fights/fight info.png\"/>"
      ],
      "text/plain": [
       "<IPython.core.display.Image object>"
      ]
     },
     "metadata": {},
     "output_type": "display_data"
    }
   ],
   "source": [
    "display_img('img/fights/fight info.png', 'Fight details:')"
   ]
  },
  {
   "cell_type": "markdown",
   "id": "32934e62",
   "metadata": {},
   "source": [
    "# Let's extract all links to fight tables above"
   ]
  },
  {
   "cell_type": "code",
   "execution_count": 901,
   "id": "45f444c1",
   "metadata": {},
   "outputs": [
    {
     "name": "stdout",
     "output_type": "stream",
     "text": [
      "\n"
     ]
    },
    {
     "data": {
      "text/html": [
       "<img src=\"img/events/fight row.png\"/>"
      ],
      "text/plain": [
       "<IPython.core.display.Image object>"
      ]
     },
     "metadata": {},
     "output_type": "display_data"
    },
    {
     "name": "stdout",
     "output_type": "stream",
     "text": [
      "Link to fight table:\n"
     ]
    },
    {
     "data": {
      "text/html": [
       "<img src=\"img/events/fight link.png\"/>"
      ],
      "text/plain": [
       "<IPython.core.display.Image object>"
      ]
     },
     "metadata": {},
     "output_type": "display_data"
    }
   ],
   "source": [
    "display_img('img/events/fight row.png', '')\n",
    "display_img('img/events/fight link.png', 'Link to fight table:')"
   ]
  },
  {
   "cell_type": "code",
   "execution_count": 902,
   "id": "a29f572a",
   "metadata": {},
   "outputs": [],
   "source": [
    "def get_links_to_tables(event_url):\n",
    "    page = requests.get(event_url)\n",
    "    soup = BeautifulSoup(page.text, 'html.parser')\n",
    "    rows = soup.findAll('tr', class_=\"b-fight-details__table-row b-fight-details__table-row__hover js-fight-details-click\")\n",
    "    return [row['onclick'][7:-2] for row in rows]"
   ]
  },
  {
   "cell_type": "code",
   "execution_count": 903,
   "id": "80436f12",
   "metadata": {},
   "outputs": [],
   "source": [
    "def file_exists(file_path):\n",
    "    import os.path\n",
    "    return os.path.isfile(file_path) "
   ]
  },
  {
   "cell_type": "code",
   "execution_count": 906,
   "id": "c09ca898",
   "metadata": {},
   "outputs": [],
   "source": [
    "for page_idx, event_urls in enumerate(page_event_links_list):\n",
    "    # print(f'Page_{page_idx}------------------------------------------------------------------------')\n",
    "    file_path = file_path = f\"tables/urls/page_{page_idx+1}\"\n",
    "    # if we already have table urls for page[page_idx], we don't want need to send requests again\n",
    "    if file_exists(file_path) is False:\n",
    "        for event_idx, event_url in enumerate(event_urls):\n",
    "            # print(\"Event url:\")\n",
    "            # print(str(event))\n",
    "            fight_table_urls = get_links_to_tables(event_url)\n",
    "            for fight_table_url in fight_table_urls:\n",
    "                with open(file_path, 'a') as f:\n",
    "                    f.write(f'{fight_table_url}\\n')\n",
    "                    # print('writing:', f'{fight_table_url}')\n",
    "    # print(f'Page_{page_idx} done!')"
   ]
  },
  {
   "cell_type": "markdown",
   "id": "3c201a71",
   "metadata": {},
   "source": [
    "# Voila! Fight tables urls downloaded. Next step: scraping tables themselves and merging them into a csv file"
   ]
  },
  {
   "cell_type": "code",
   "execution_count": 905,
   "id": "72d03c45",
   "metadata": {},
   "outputs": [
    {
     "data": {
      "text/html": [
       "<img src=\"https://images.unsplash.com/photo-1586542276867-832a2309a705?ixlib=rb-1.2.1&ixid=MnwxMjA3fDB8MHxwaG90by1wYWdlfHx8fGVufDB8fHx8&auto=format&fit=crop&w=2342&q=80\"/>"
      ],
      "text/plain": [
       "<IPython.core.display.Image object>"
      ]
     },
     "metadata": {},
     "output_type": "display_data"
    }
   ],
   "source": [
    "display_img(src='https://images.unsplash.com/photo-1586542276867-832a2309a705?ixlib=rb-1.2.1&ixid=MnwxMjA3fDB8MHxwaG90by1wYWdlfHx8fGVufDB8fHx8&auto=format&fit=crop&w=2342&q=80')"
   ]
  }
 ],
 "metadata": {
  "kernelspec": {
   "display_name": "Python 3 (ipykernel)",
   "language": "python",
   "name": "python3"
  },
  "language_info": {
   "codemirror_mode": {
    "name": "ipython",
    "version": 3
   },
   "file_extension": ".py",
   "mimetype": "text/x-python",
   "name": "python",
   "nbconvert_exporter": "python",
   "pygments_lexer": "ipython3",
   "version": "3.9.0"
  }
 },
 "nbformat": 4,
 "nbformat_minor": 5
}

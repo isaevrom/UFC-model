{
 "cells": [
  {
   "cell_type": "markdown",
   "id": "5b26bd67",
   "metadata": {},
   "source": [
    "# Notebook for scraping UFC-stats pages"
   ]
  },
  {
   "cell_type": "code",
   "execution_count": 537,
   "id": "3983de51",
   "metadata": {},
   "outputs": [],
   "source": [
    "def display_img(src, description=None):\n",
    "    from IPython.display import Image\n",
    "    from IPython.core.display import HTML \n",
    "    if description is not None: print(description)\n",
    "    display(Image(url=src))"
   ]
  },
  {
   "cell_type": "code",
   "execution_count": 563,
   "id": "24d7f876",
   "metadata": {},
   "outputs": [
    {
     "name": "stdout",
     "output_type": "stream",
     "text": [
      "Start url:\n"
     ]
    },
    {
     "data": {
      "text/html": [
       "<img src=\"img/front page urls/start_url.png\"/>"
      ],
      "text/plain": [
       "<IPython.core.display.Image object>"
      ]
     },
     "metadata": {},
     "output_type": "display_data"
    },
    {
     "name": "stdout",
     "output_type": "stream",
     "text": [
      "Second url:\n"
     ]
    },
    {
     "data": {
      "text/html": [
       "<img src=\"img/front page urls/second_url.png\"/>"
      ],
      "text/plain": [
       "<IPython.core.display.Image object>"
      ]
     },
     "metadata": {},
     "output_type": "display_data"
    },
    {
     "name": "stdout",
     "output_type": "stream",
     "text": [
      "Last url:\n"
     ]
    },
    {
     "data": {
      "text/html": [
       "<img src=\"img/front page urls/last_url.png\"/>"
      ],
      "text/plain": [
       "<IPython.core.display.Image object>"
      ]
     },
     "metadata": {},
     "output_type": "display_data"
    }
   ],
   "source": [
    "img_name_prefix = [\"start\", \"second\", \"last\"]\n",
    "for prefix in img_name_prefix:\n",
    "    display_img(src=f\"img/front page urls/{prefix}_url.png\", \n",
    "                description=f\"{prefix.capitalize()} url:\")"
   ]
  },
  {
   "cell_type": "markdown",
   "id": "ec2e1bf1",
   "metadata": {},
   "source": [
    "## As we can see above, pattern of ufc stats urls is clear:\n",
    " - First page has unique url suffix pattern:\n",
    "      - Page &emsp;1: '.../completed'\n",
    " - The rest of urls have a clear suffix pattern: \n",
    "     - Page &emsp;2: '.../completed**?page=2**'\n",
    "     - Page &emsp;3: '.../completed**?page=3**'\n",
    "     - ...\n",
    "     - Page &ensp;24: '.../completed**?page=24**'"
   ]
  },
  {
   "cell_type": "code",
   "execution_count": 541,
   "id": "8221ad15",
   "metadata": {},
   "outputs": [
    {
     "name": "stdout",
     "output_type": "stream",
     "text": [
      "Front page:\n"
     ]
    },
    {
     "data": {
      "text/html": [
       "<img src=\"img/front page/front page.png\"/>"
      ],
      "text/plain": [
       "<IPython.core.display.Image object>"
      ]
     },
     "metadata": {},
     "output_type": "display_data"
    }
   ],
   "source": [
    "front_page_img_name = \"front page\"\n",
    "display_img(src=f\"img/front page/{front_page_img_name}.png\", \n",
    "            description=\"Front page:\")"
   ]
  },
  {
   "cell_type": "code",
   "execution_count": 543,
   "id": "51ba4ece",
   "metadata": {},
   "outputs": [],
   "source": [
    "def get_ufc_front_pages_urls():\n",
    "    import requests\n",
    "\n",
    "    sfx_ptrn = \"?page=\"\n",
    "    suffixes = [''] # initially only 1 element - empty string, because of the unique start\n",
    "    suffixes += [sfx_ptrn + str(i) for i in range(2, 25)] # \n",
    "    # print(suffixes)\n",
    "    url_start = \"http://ufcstats.com/statistics/events/completed{}\" # notice {} at the end\n",
    "\n",
    "    urls = []\n",
    "    \n",
    "    for i, sfx in enumerate(suffixes):\n",
    "        urls.append(url_start.format(sfx))\n",
    "\n",
    "    return urls"
   ]
  },
  {
   "cell_type": "code",
   "execution_count": 545,
   "id": "1611820c",
   "metadata": {},
   "outputs": [],
   "source": [
    "front_pages_urls = get_ufc_front_pages_urls()\n",
    "front_pages_urls;"
   ]
  },
  {
   "cell_type": "markdown",
   "id": "fff0860a",
   "metadata": {},
   "source": [
    "## Let's extract all links of events"
   ]
  },
  {
   "cell_type": "code",
   "execution_count": 547,
   "id": "a7baa238",
   "metadata": {},
   "outputs": [
    {
     "name": "stdout",
     "output_type": "stream",
     "text": [
      "Events page:\n"
     ]
    },
    {
     "data": {
      "text/html": [
       "<img src=\"img/events/events page.png\"/>"
      ],
      "text/plain": [
       "<IPython.core.display.Image object>"
      ]
     },
     "metadata": {},
     "output_type": "display_data"
    },
    {
     "name": "stdout",
     "output_type": "stream",
     "text": [
      "Event link:\n"
     ]
    },
    {
     "data": {
      "text/html": [
       "<img src=\"img/events/event link.png\"/>"
      ],
      "text/plain": [
       "<IPython.core.display.Image object>"
      ]
     },
     "metadata": {},
     "output_type": "display_data"
    }
   ],
   "source": [
    "event_img_names = [\"events page\", \"event link\"]\n",
    "\n",
    "for img_name in event_img_names:\n",
    "    display_img(src=f\"img/events/{img_name}.png\", \n",
    "                description=f\"{img_name.capitalize()}:\")"
   ]
  },
  {
   "cell_type": "code",
   "execution_count": 549,
   "id": "46d6e65f",
   "metadata": {},
   "outputs": [],
   "source": [
    "# gets all events links from particular page\n",
    "def get_events_links(page_url):\n",
    "    from bs4 import BeautifulSoup\n",
    "    \n",
    "    page = requests.get(page_url).text\n",
    "    soup = BeautifulSoup(page, \"html.parser\")\n",
    "    tags_with_events_links = soup.find_all('a', class_=\"b-link b-link_style_black\")\n",
    "    events_links = [i['href'] for i in tags_with_events_links]\n",
    "    \n",
    "    return events_links"
   ]
  },
  {
   "cell_type": "code",
   "execution_count": 551,
   "id": "09df2552",
   "metadata": {},
   "outputs": [],
   "source": [
    "page_event_links_list = [get_events_links(front_page_url) for front_page_url in front_pages_urls]"
   ]
  },
  {
   "cell_type": "code",
   "execution_count": 552,
   "id": "820388de",
   "metadata": {},
   "outputs": [],
   "source": [
    "'''\n",
    "import numpy as np\n",
    "\n",
    "flattened_events_links = np.concatenate(link_lists, axis=0, dtype=\"object\")\n",
    "flattened_events_links.shape\n",
    "''';"
   ]
  },
  {
   "cell_type": "markdown",
   "id": "bc222f84",
   "metadata": {},
   "source": [
    "## We expect links to contain 24 * 25 - 1 links\n",
    "- 24 - number of pages\n",
    "- 25 - number of links per page\n",
    "- 1 &nbsp; - upcoming event on October 10th"
   ]
  },
  {
   "cell_type": "code",
   "execution_count": 564,
   "id": "ebadb25f",
   "metadata": {},
   "outputs": [],
   "source": [
    "assert(24*25 - 1 == sum((len(links) for links in page_event_links_list)))"
   ]
  },
  {
   "cell_type": "markdown",
   "id": "910de5b6",
   "metadata": {},
   "source": [
    "# Every event link points to page with that kind of table:"
   ]
  },
  {
   "cell_type": "code",
   "execution_count": 738,
   "id": "54932bc9",
   "metadata": {},
   "outputs": [
    {
     "name": "stdout",
     "output_type": "stream",
     "text": [
      "Fights of event:\n"
     ]
    },
    {
     "data": {
      "text/html": [
       "<img src=\"img/events/event description.png\"/>"
      ],
      "text/plain": [
       "<IPython.core.display.Image object>"
      ]
     },
     "metadata": {},
     "output_type": "display_data"
    }
   ],
   "source": [
    "display_img('img/events/event description.png', 'Fights of event:')"
   ]
  },
  {
   "cell_type": "markdown",
   "id": "e0c4e5fc",
   "metadata": {},
   "source": [
    "# Proceeding further by clicking on any row leads us to table with fight details:"
   ]
  },
  {
   "cell_type": "code",
   "execution_count": 739,
   "id": "b2ac6521",
   "metadata": {},
   "outputs": [
    {
     "name": "stdout",
     "output_type": "stream",
     "text": [
      "Fight details:\n"
     ]
    },
    {
     "data": {
      "text/html": [
       "<img src=\"img/fights/fight info.png\"/>"
      ],
      "text/plain": [
       "<IPython.core.display.Image object>"
      ]
     },
     "metadata": {},
     "output_type": "display_data"
    }
   ],
   "source": [
    "display_img('img/fights/fight info.png', 'Fight details:')"
   ]
  },
  {
   "cell_type": "markdown",
   "id": "455d2731",
   "metadata": {},
   "source": [
    "# Let's extract all links to fight tables"
   ]
  },
  {
   "cell_type": "code",
   "execution_count": 742,
   "id": "1e49c7e4",
   "metadata": {},
   "outputs": [
    {
     "name": "stdout",
     "output_type": "stream",
     "text": [
      "\n"
     ]
    },
    {
     "data": {
      "text/html": [
       "<img src=\"img/events/fight row.png\"/>"
      ],
      "text/plain": [
       "<IPython.core.display.Image object>"
      ]
     },
     "metadata": {},
     "output_type": "display_data"
    },
    {
     "name": "stdout",
     "output_type": "stream",
     "text": [
      "Link to fight table:\n"
     ]
    },
    {
     "data": {
      "text/html": [
       "<img src=\"img/events/fight link.png\"/>"
      ],
      "text/plain": [
       "<IPython.core.display.Image object>"
      ]
     },
     "metadata": {},
     "output_type": "display_data"
    }
   ],
   "source": [
    "display_img('img/events/fight row.png', '')\n",
    "display_img('img/events/fight link.png', 'Link to fight table:')"
   ]
  },
  {
   "cell_type": "code",
   "execution_count": 833,
   "id": "213647b6",
   "metadata": {},
   "outputs": [],
   "source": [
    "def get_links_to_tables(event_url):\n",
    "    page = requests.get(event_url)\n",
    "    soup = BeautifulSoup(page.text, 'html.parser')\n",
    "    rows = soup.findAll('tr', class_=\"b-fight-details__table-row b-fight-details__table-row__hover js-fight-details-click\")\n",
    "    return [row['onclick'][7:-2] for row in rows]"
   ]
  },
  {
   "cell_type": "code",
   "execution_count": 869,
   "id": "0624a3b1",
   "metadata": {},
   "outputs": [],
   "source": [
    "def file_exists(file_path):\n",
    "    import os.path\n",
    "    return os.path.isfile(file_path) "
   ]
  },
  {
   "cell_type": "code",
   "execution_count": 878,
   "id": "ca465b7d",
   "metadata": {},
   "outputs": [
    {
     "name": "stdout",
     "output_type": "stream",
     "text": [
      "writing: http://ufcstats.com/fight-details/df370b97ea49e6b4\n",
      "\n",
      "writing: http://ufcstats.com/fight-details/bd06f1c2d7e6c4a0\n",
      "\n",
      "writing: http://ufcstats.com/fight-details/adb78db5ba8ccc0f\n",
      "\n",
      "writing: http://ufcstats.com/fight-details/160c17b8fcb0e2a1\n",
      "\n",
      "writing: http://ufcstats.com/fight-details/3cbd3565dd631cc4\n",
      "\n",
      "writing: http://ufcstats.com/fight-details/ce5ebaf8caf8c4a7\n",
      "\n",
      "writing: http://ufcstats.com/fight-details/f521ecde1e96a1bd\n",
      "\n",
      "writing: http://ufcstats.com/fight-details/46b9acec12a35d37\n",
      "\n",
      "writing: http://ufcstats.com/fight-details/ec0740be19b2ef90\n",
      "\n",
      "writing: http://ufcstats.com/fight-details/35d06627d91b840d\n",
      "\n",
      "writing: http://ufcstats.com/fight-details/d9f5d05b07bae09e\n",
      "\n",
      "writing: http://ufcstats.com/fight-details/be73f75b52b06f14\n",
      "\n",
      "writing: http://ufcstats.com/fight-details/8a044e5400b4318f\n",
      "\n"
     ]
    }
   ],
   "source": [
    "# print(get_links_to_tables(page_event_links_list[0][0]))\n",
    "\n",
    "with open(f\"tables/urls/page_1\", 'w+') as f:\n",
    "    [f.write(f'{fight_table_url}\\n') and print('writing:', f'{fight_table_url}\\n') \n",
    "for fight_table_url in get_links_to_tables(page_event_links_list[0][0])]"
   ]
  },
  {
   "cell_type": "code",
   "execution_count": 885,
   "id": "d4799626",
   "metadata": {},
   "outputs": [
    {
     "name": "stdout",
     "output_type": "stream",
     "text": [
      "Page0------------------------------------------------------------------------\n",
      "Page_0 done!\n",
      "Page1------------------------------------------------------------------------\n",
      "Page_1 done!\n",
      "Page2------------------------------------------------------------------------\n",
      "Page_2 done!\n",
      "Page3------------------------------------------------------------------------\n",
      "Page_3 done!\n",
      "Page4------------------------------------------------------------------------\n",
      "Page_4 done!\n",
      "Page5------------------------------------------------------------------------\n",
      "Page_5 done!\n",
      "Page6------------------------------------------------------------------------\n",
      "Page_6 done!\n",
      "Page7------------------------------------------------------------------------\n",
      "Page_7 done!\n",
      "Page8------------------------------------------------------------------------\n",
      "Page_8 done!\n",
      "Page9------------------------------------------------------------------------\n",
      "Page_9 done!\n",
      "Page10------------------------------------------------------------------------\n",
      "Page_10 done!\n",
      "Page11------------------------------------------------------------------------\n",
      "Page_11 done!\n",
      "Page12------------------------------------------------------------------------\n",
      "Page_12 done!\n",
      "Page13------------------------------------------------------------------------\n",
      "Page_13 done!\n",
      "Page14------------------------------------------------------------------------\n",
      "Page_14 done!\n",
      "Page15------------------------------------------------------------------------\n",
      "Page_15 done!\n",
      "Page16------------------------------------------------------------------------\n",
      "Page_16 done!\n",
      "Page17------------------------------------------------------------------------\n",
      "Page_17 done!\n",
      "Page18------------------------------------------------------------------------\n",
      "Page_18 done!\n",
      "Page19------------------------------------------------------------------------\n",
      "Page_19 done!\n",
      "Page20------------------------------------------------------------------------\n",
      "Page_20 done!\n",
      "Page21------------------------------------------------------------------------\n",
      "Page_21 done!\n",
      "Page22------------------------------------------------------------------------\n",
      "Page_22 done!\n",
      "Page23------------------------------------------------------------------------\n",
      "Page_23 done!\n"
     ]
    }
   ],
   "source": [
    "for page_idx, event_urls in enumerate(page_event_links_list):\n",
    "    print(\"Page\" + str(page_idx) + '------------------------------------------------------------------------')\n",
    "    file_path = file_path = f\"tables/urls/page_{page_idx+1}\"\n",
    "    # if we already have table urls for page[page_idx], we don't want need to send requests again\n",
    "    if file_exists(file_path) is False:\n",
    "        for event_idx, event_url in enumerate(event_urls):\n",
    "            # print(\"Event url:\")\n",
    "            # print(str(event))\n",
    "            fight_table_urls = get_links_to_tables(event_url)\n",
    "            for fight_table_url in fight_table_urls:\n",
    "                with open(file_path, 'a') as f:\n",
    "                    f.write(f'{fight_table_url}\\n')\n",
    "                    # print('writing:', f'{fight_table_url}')\n",
    "    print(f'Page_{page_idx} done!')"
   ]
  },
  {
   "cell_type": "code",
   "execution_count": 841,
   "id": "742179a5",
   "metadata": {},
   "outputs": [
    {
     "name": "stdout",
     "output_type": "stream",
     "text": [
      "['http://ufcstats.com/fight-details/06641a8c62e45661', 'http://ufcstats.com/fight-details/ce3d94186567a684', 'http://ufcstats.com/fight-details/001441f70c293931', 'http://ufcstats.com/fight-details/bcd1e1d71a172d53', 'http://ufcstats.com/fight-details/5a878a6bebc973d7', 'http://ufcstats.com/fight-details/a200b5dcbdd2506e', 'http://ufcstats.com/fight-details/6e705b2365bc03fa', 'http://ufcstats.com/fight-details/ae989e21c3839b49', 'http://ufcstats.com/fight-details/766b4f5e77ab0860', 'http://ufcstats.com/fight-details/53d0df57a917c6a0', 'http://ufcstats.com/fight-details/5e378c52f26935d6', 'http://ufcstats.com/fight-details/4c7e55061dc3bf89']\n"
     ]
    }
   ],
   "source": [
    "print(get_links_to_tables(page_event_links_list[0][23]))"
   ]
  },
  {
   "cell_type": "code",
   "execution_count": 834,
   "id": "323b70e2",
   "metadata": {},
   "outputs": [],
   "source": [
    "first_event_fight_tables = get_links_to_tables(first_event_url)"
   ]
  },
  {
   "cell_type": "code",
   "execution_count": 835,
   "id": "0401c1d8",
   "metadata": {},
   "outputs": [
    {
     "data": {
      "text/plain": [
       "['http://ufcstats.com/fight-details/df370b97ea49e6b4',\n",
       " 'http://ufcstats.com/fight-details/bd06f1c2d7e6c4a0',\n",
       " 'http://ufcstats.com/fight-details/adb78db5ba8ccc0f',\n",
       " 'http://ufcstats.com/fight-details/160c17b8fcb0e2a1',\n",
       " 'http://ufcstats.com/fight-details/3cbd3565dd631cc4',\n",
       " 'http://ufcstats.com/fight-details/ce5ebaf8caf8c4a7',\n",
       " 'http://ufcstats.com/fight-details/f521ecde1e96a1bd',\n",
       " 'http://ufcstats.com/fight-details/46b9acec12a35d37',\n",
       " 'http://ufcstats.com/fight-details/ec0740be19b2ef90',\n",
       " 'http://ufcstats.com/fight-details/35d06627d91b840d',\n",
       " 'http://ufcstats.com/fight-details/d9f5d05b07bae09e',\n",
       " 'http://ufcstats.com/fight-details/be73f75b52b06f14',\n",
       " 'http://ufcstats.com/fight-details/8a044e5400b4318f']"
      ]
     },
     "execution_count": 835,
     "metadata": {},
     "output_type": "execute_result"
    }
   ],
   "source": [
    "first_event_fight_tables"
   ]
  },
  {
   "cell_type": "markdown",
   "id": "72a3eb12",
   "metadata": {},
   "source": [
    "## Now, let's get all fight tables of all events for each page:\n",
    "For each page:\n",
    "- fix page and dataframe\n",
    "- go through all of its event links\n",
    "- for each event link, proceed to every fight detail link\n",
    "- get table\n",
    "- add record into dataframe "
   ]
  },
  {
   "cell_type": "code",
   "execution_count": 598,
   "id": "4b854c06",
   "metadata": {},
   "outputs": [],
   "source": [
    "import pandas as pd"
   ]
  },
  {
   "cell_type": "code",
   "execution_count": null,
   "id": "7b67120a",
   "metadata": {},
   "outputs": [],
   "source": []
  }
 ],
 "metadata": {
  "kernelspec": {
   "display_name": "Python 3 (ipykernel)",
   "language": "python",
   "name": "python3"
  },
  "language_info": {
   "codemirror_mode": {
    "name": "ipython",
    "version": 3
   },
   "file_extension": ".py",
   "mimetype": "text/x-python",
   "name": "python",
   "nbconvert_exporter": "python",
   "pygments_lexer": "ipython3",
   "version": "3.9.0"
  }
 },
 "nbformat": 4,
 "nbformat_minor": 5
}

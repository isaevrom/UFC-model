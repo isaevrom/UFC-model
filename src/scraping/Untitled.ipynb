{
 "cells": [
  {
   "cell_type": "code",
   "execution_count": 180,
   "id": "14258fd0",
   "metadata": {},
   "outputs": [],
   "source": [
    "import math\n",
    "\n",
    "def Merge(a, b):\n",
    "    print(f'merging: {a} and {b}')\n",
    "    if type(a) is int:\n",
    "        a = [a]\n",
    "    if type(b) is int:\n",
    "        b = [b]\n",
    "    len_a = len(a)\n",
    "    len_b = len(b)\n",
    "    i = 0\n",
    "    j = 0\n",
    "    res = []\n",
    "    while i < len_a and j < len_b:\n",
    "        # print(i, j)\n",
    "        if a[i] < b[j]:\n",
    "            res.append(a[i])\n",
    "            i += 1\n",
    "        else:\n",
    "            res.append(b[j])\n",
    "            j += 1\n",
    "            \n",
    "    while (i < len_a):\n",
    "        res.append(a[i])\n",
    "        i += 1\n",
    "    while (j < len_b):\n",
    "        res.append(b[j])\n",
    "        j += 1\n",
    "    return res\n",
    "            \n",
    "def MergeSort(a):\n",
    "    if type(a) is int:\n",
    "        a = [a]\n",
    "    n = len(a)\n",
    "    # print(f'n = {n}')\n",
    "    if n == 1:\n",
    "        return a[0]\n",
    "    n_div2_ceil  = math.ceil(n/2)\n",
    "    # print(f'ceil: {n_div2_ceil}')\n",
    "    n_div2_floor = math.floor(n/2)\n",
    "    # print(f'floor: {n_div2_floor}')\n",
    "\n",
    "    # x1, ..., x_floor(n/2) = MergeSort(a_1, ..., a_floor(n/2))\n",
    "    # y1, ..., y_ceil(n/2)  = MergeSort(a_floor(n/2+1), ..., a_n)\n",
    "    print(f'---{a}')\n",
    "    print(f'--- /      \\\\')\n",
    "    x = MergeSort(a[:n_div2_floor])\n",
    "    y = MergeSort(a[n_div2_floor:])\n",
    "    print(f'--- x:{x} y:{y}')\n",
    "\n",
    "    return Merge(x, y)"
   ]
  },
  {
   "cell_type": "code",
   "execution_count": 76,
   "id": "eea27cd4",
   "metadata": {},
   "outputs": [],
   "source": [
    "import numpy as np"
   ]
  },
  {
   "cell_type": "code",
   "execution_count": 174,
   "id": "df18bcae",
   "metadata": {},
   "outputs": [
    {
     "name": "stdout",
     "output_type": "stream",
     "text": [
      "[5, 6, 8, 9, 9]\n",
      "[2, 3, 9, 12, 12]\n",
      "merging: [5, 6, 8, 9, 9] and [2, 3, 9, 12, 12]\n",
      "[2, 3, 5, 6, 8, 9, 9, 9, 12, 12]\n"
     ]
    }
   ],
   "source": [
    "a = sorted([np.random.randint(1, 10) for i in range(5)])\n",
    "b = sorted([np.random.randint(1, 15) for i in range(5)])\n",
    "print(a)\n",
    "print(b)\n",
    "print(Merge(a, b))"
   ]
  },
  {
   "cell_type": "code",
   "execution_count": 181,
   "id": "99d541d6",
   "metadata": {},
   "outputs": [
    {
     "name": "stdout",
     "output_type": "stream",
     "text": [
      "[12, 14, 3, 9, 1, 4, 5, 12, 9, 5]\n",
      "---[12, 14, 3, 9, 1, 4, 5, 12, 9, 5]\n",
      "--- /      \\\n",
      "---[12, 14, 3, 9, 1]\n",
      "--- /      \\\n",
      "---[12, 14]\n",
      "--- /      \\\n",
      "--- x:12 y:14\n",
      "merging: 12 and 14\n",
      "---[3, 9, 1]\n",
      "--- /      \\\n",
      "---[9, 1]\n",
      "--- /      \\\n",
      "--- x:9 y:1\n",
      "merging: 9 and 1\n",
      "--- x:3 y:[1, 9]\n",
      "merging: 3 and [1, 9]\n",
      "--- x:[12, 14] y:[1, 3, 9]\n",
      "merging: [12, 14] and [1, 3, 9]\n",
      "---[4, 5, 12, 9, 5]\n",
      "--- /      \\\n",
      "---[4, 5]\n",
      "--- /      \\\n",
      "--- x:4 y:5\n",
      "merging: 4 and 5\n",
      "---[12, 9, 5]\n",
      "--- /      \\\n",
      "---[9, 5]\n",
      "--- /      \\\n",
      "--- x:9 y:5\n",
      "merging: 9 and 5\n",
      "--- x:12 y:[5, 9]\n",
      "merging: 12 and [5, 9]\n",
      "--- x:[4, 5] y:[5, 9, 12]\n",
      "merging: [4, 5] and [5, 9, 12]\n",
      "--- x:[1, 3, 9, 12, 14] y:[4, 5, 5, 9, 12]\n",
      "merging: [1, 3, 9, 12, 14] and [4, 5, 5, 9, 12]\n",
      "[1, 3, 4, 5, 5, 9, 9, 12, 12, 14]\n"
     ]
    }
   ],
   "source": [
    "a = [np.random.randint(1, 15) for i in range(10)]\n",
    "print(a)\n",
    "print(MergeSort(a))"
   ]
  },
  {
   "cell_type": "code",
   "execution_count": 64,
   "id": "34eb8a25",
   "metadata": {},
   "outputs": [
    {
     "name": "stdout",
     "output_type": "stream",
     "text": [
      "[9]\n"
     ]
    }
   ],
   "source": [
    "o = 9\n",
    "o = [o]\n",
    "print(o)"
   ]
  }
 ],
 "metadata": {
  "kernelspec": {
   "display_name": "Python 3 (ipykernel)",
   "language": "python",
   "name": "python3"
  },
  "language_info": {
   "codemirror_mode": {
    "name": "ipython",
    "version": 3
   },
   "file_extension": ".py",
   "mimetype": "text/x-python",
   "name": "python",
   "nbconvert_exporter": "python",
   "pygments_lexer": "ipython3",
   "version": "3.9.0"
  }
 },
 "nbformat": 4,
 "nbformat_minor": 5
}

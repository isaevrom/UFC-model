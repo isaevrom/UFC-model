{
 "cells": [
  {
   "cell_type": "markdown",
   "id": "5b26bd67",
   "metadata": {},
   "source": [
    "# Notebook for scraping UFC-stats pages"
   ]
  },
  {
   "cell_type": "code",
   "execution_count": 474,
   "id": "3983de51",
   "metadata": {},
   "outputs": [],
   "source": [
    "def display_img(src, description=None):\n",
    "    from IPython.display import Image\n",
    "    from IPython.core.display import HTML \n",
    "    if description is not None: print(description)\n",
    "    display(Image(url=src))"
   ]
  },
  {
   "cell_type": "code",
   "execution_count": 475,
   "id": "24d7f876",
   "metadata": {},
   "outputs": [
    {
     "name": "stdout",
     "output_type": "stream",
     "text": [
      "Start url:\n"
     ]
    },
    {
     "data": {
      "text/html": [
       "<img src=\"img/page urls/start_url.png\"/>"
      ],
      "text/plain": [
       "<IPython.core.display.Image object>"
      ]
     },
     "metadata": {},
     "output_type": "display_data"
    },
    {
     "name": "stdout",
     "output_type": "stream",
     "text": [
      "Second url:\n"
     ]
    },
    {
     "data": {
      "text/html": [
       "<img src=\"img/page urls/second_url.png\"/>"
      ],
      "text/plain": [
       "<IPython.core.display.Image object>"
      ]
     },
     "metadata": {},
     "output_type": "display_data"
    },
    {
     "name": "stdout",
     "output_type": "stream",
     "text": [
      "Last url:\n"
     ]
    },
    {
     "data": {
      "text/html": [
       "<img src=\"img/page urls/last_url.png\"/>"
      ],
      "text/plain": [
       "<IPython.core.display.Image object>"
      ]
     },
     "metadata": {},
     "output_type": "display_data"
    }
   ],
   "source": [
    "img_name_prefix = [\"start\", \"second\", \"last\"]\n",
    "for prefix in img_name_prefix:\n",
    "    display_img(src=f\"img/page urls/{prefix}_url.png\", \n",
    "                description=f\"{prefix.capitalize()} url:\")"
   ]
  },
  {
   "cell_type": "markdown",
   "id": "ec2e1bf1",
   "metadata": {},
   "source": [
    "## As we can see above, pattern of ufc stats urls is clear:\n",
    " - First page has unique url suffix pattern:\n",
    "      - Page &emsp;1: '.../completed'\n",
    " - The rest of urls have a clear suffix pattern: \n",
    "     - Page &emsp;2: '.../completed**?page=2**'\n",
    "     - Page &emsp;3: '.../completed**?page=3**'\n",
    "     - ...\n",
    "     - Page &ensp;24: '.../completed**?page=24**'"
   ]
  },
  {
   "cell_type": "code",
   "execution_count": 476,
   "id": "8221ad15",
   "metadata": {},
   "outputs": [
    {
     "name": "stdout",
     "output_type": "stream",
     "text": [
      "Front page:\n"
     ]
    },
    {
     "data": {
      "text/html": [
       "<img src=\"img/front page/front page.png\"/>"
      ],
      "text/plain": [
       "<IPython.core.display.Image object>"
      ]
     },
     "metadata": {},
     "output_type": "display_data"
    }
   ],
   "source": [
    "front_page_img_name = \"front page\"\n",
    "display_img(src=f\"img/front page/{front_page_img_name}.png\", \n",
    "            description=\"Front page:\")"
   ]
  },
  {
   "cell_type": "code",
   "execution_count": 477,
   "id": "51ba4ece",
   "metadata": {},
   "outputs": [],
   "source": [
    "def get_ufc_front_pages_urls():\n",
    "    import requests\n",
    "\n",
    "    sfx_ptrn = \"?page=\"\n",
    "    suffixes = [''] # initially only 1 element - empty string, because of the unique start\n",
    "    suffixes += [sfx_ptrn + str(i) for i in range(2, 25)] # \n",
    "    # print(suffixes)\n",
    "    url_start = \"http://ufcstats.com/statistics/events/completed{}\" # notice {} at the end\n",
    "\n",
    "    urls = []\n",
    "    \n",
    "    for i, sfx in enumerate(suffixes):\n",
    "        urls.append(url_start.format(sfx))\n",
    "\n",
    "    return urls"
   ]
  },
  {
   "cell_type": "code",
   "execution_count": 478,
   "id": "1611820c",
   "metadata": {},
   "outputs": [],
   "source": [
    "front_pages_urls = get_ufc_front_pages_urls()\n",
    "front_pages_urls;"
   ]
  },
  {
   "cell_type": "markdown",
   "id": "fff0860a",
   "metadata": {},
   "source": [
    "## Let's extract all links of events"
   ]
  },
  {
   "cell_type": "code",
   "execution_count": 479,
   "id": "a7baa238",
   "metadata": {},
   "outputs": [
    {
     "name": "stdout",
     "output_type": "stream",
     "text": [
      "Events page:\n"
     ]
    },
    {
     "data": {
      "text/html": [
       "<img src=\"img/events/events page.png\"/>"
      ],
      "text/plain": [
       "<IPython.core.display.Image object>"
      ]
     },
     "metadata": {},
     "output_type": "display_data"
    },
    {
     "name": "stdout",
     "output_type": "stream",
     "text": [
      "Event link:\n"
     ]
    },
    {
     "data": {
      "text/html": [
       "<img src=\"img/events/event link.png\"/>"
      ],
      "text/plain": [
       "<IPython.core.display.Image object>"
      ]
     },
     "metadata": {},
     "output_type": "display_data"
    }
   ],
   "source": [
    "event_img_names = [\"events page\", \"event link\"]\n",
    "\n",
    "for img_name in event_img_names:\n",
    "    display_img(src=f\"img/events/{img_name}.png\", \n",
    "                description=f\"{img_name.capitalize()}:\")"
   ]
  },
  {
   "cell_type": "code",
   "execution_count": 481,
   "id": "46d6e65f",
   "metadata": {},
   "outputs": [],
   "source": [
    "# gets all events links from particular page\n",
    "def get_events_links(page_url):\n",
    "    from bs4 import BeautifulSoup\n",
    "    \n",
    "    page = requests.get(page_url).text\n",
    "    soup = BeautifulSoup(page, \"html.parser\")\n",
    "    tags_with_events_links = soup.find_all('a', class_=\"b-link b-link_style_black\");\n",
    "    events_links = [i['href'] for i in tags_with_events_links]\n",
    "    \n",
    "    return events_links"
   ]
  },
  {
   "cell_type": "code",
   "execution_count": 484,
   "id": "09df2552",
   "metadata": {},
   "outputs": [],
   "source": [
    "events_links = [get_events_links(front_page_url) for front_page_url in front_pages_urls]"
   ]
  },
  {
   "cell_type": "code",
   "execution_count": 487,
   "id": "9ade855a",
   "metadata": {},
   "outputs": [
    {
     "data": {
      "text/plain": [
       "73"
      ]
     },
     "execution_count": 487,
     "metadata": {},
     "output_type": "execute_result"
    }
   ],
   "source": []
  },
  {
   "cell_type": "code",
   "execution_count": 460,
   "id": "820388de",
   "metadata": {},
   "outputs": [
    {
     "data": {
      "text/plain": [
       "(599,)"
      ]
     },
     "execution_count": 460,
     "metadata": {},
     "output_type": "execute_result"
    }
   ],
   "source": [
    "import numpy as np\n",
    "\n",
    "flattened_events_links = np.concatenate(link_lists, axis=0, dtype=\"object\")\n",
    "flattened_events_links.shape"
   ]
  },
  {
   "cell_type": "markdown",
   "id": "bc222f84",
   "metadata": {},
   "source": [
    "## We expect links to contain 24 * 25 - 1 links\n",
    "- 24 - number of pages\n",
    "- 25 - number of links per page\n",
    "- 1 &nbsp; - upcoming event on October 10th"
   ]
  },
  {
   "cell_type": "code",
   "execution_count": 356,
   "id": "ebadb25f",
   "metadata": {},
   "outputs": [],
   "source": [
    "assert(24*25 - 1 == len(tbl_links))"
   ]
  },
  {
   "cell_type": "markdown",
   "id": "910de5b6",
   "metadata": {},
   "source": [
    "# Every event link points to table like this:"
   ]
  },
  {
   "cell_type": "code",
   "execution_count": null,
   "id": "54932bc9",
   "metadata": {},
   "outputs": [],
   "source": [
    "display_img('')"
   ]
  },
  {
   "cell_type": "markdown",
   "id": "72a3eb12",
   "metadata": {},
   "source": [
    "## Now, let's get all tables and save them into separate .csv files for each page"
   ]
  },
  {
   "cell_type": "code",
   "execution_count": 125,
   "id": "4b854c06",
   "metadata": {},
   "outputs": [],
   "source": [
    "import pandas as pd"
   ]
  },
  {
   "cell_type": "code",
   "execution_count": 383,
   "id": "4ece67cf",
   "metadata": {},
   "outputs": [],
   "source": [
    "def file_exists(file_path):\n",
    "    import os.path\n",
    "    return os.path.isfile(file_path)\n",
    "\n",
    "def merge_page_tables(links):\n",
    "    df = pd.DataFrame()\n",
    "    for table_link in links:\n",
    "        df = pd.concat([df, pd.read_html(table_link)[0]], axis=0)\n",
    "    return df\n",
    "    \n",
    "def table_to_csv(df, file_path):\n",
    "    df.to_csv(file_path, sep=',', index=False)"
   ]
  },
  {
   "cell_type": "code",
   "execution_count": 284,
   "id": "d63f670e",
   "metadata": {},
   "outputs": [
    {
     "name": "stdout",
     "output_type": "stream",
     "text": [
      "1\n"
     ]
    }
   ],
   "source": [
    "tmp_df = pd.DataFrame()\n",
    "\n",
    "# for idx in range(len(link)):\n",
    "#    tmp_df = pd.concat([tmp_df, pd.read_html(link_lists[0][idx])[0]], axis=0)\n",
    "    \n",
    "for page_num, links in enumerate(link_lists):\n",
    "    if page_num == 1:\n",
    "        break\n",
    "    print(page_num + 1)\n",
    "    df = merge_page_tables(links)\n",
    "    table_to_csv(df, f\"tables/{page_num + 1}.csv\")"
   ]
  },
  {
   "cell_type": "code",
   "execution_count": 278,
   "id": "f0459ba4",
   "metadata": {},
   "outputs": [
    {
     "data": {
      "text/html": [
       "<div>\n",
       "<style scoped>\n",
       "    .dataframe tbody tr th:only-of-type {\n",
       "        vertical-align: middle;\n",
       "    }\n",
       "\n",
       "    .dataframe tbody tr th {\n",
       "        vertical-align: top;\n",
       "    }\n",
       "\n",
       "    .dataframe thead th {\n",
       "        text-align: right;\n",
       "    }\n",
       "</style>\n",
       "<table border=\"1\" class=\"dataframe\">\n",
       "  <thead>\n",
       "    <tr style=\"text-align: right;\">\n",
       "      <th></th>\n",
       "      <th>W/L</th>\n",
       "      <th>Fighter</th>\n",
       "      <th>Kd</th>\n",
       "      <th>Str</th>\n",
       "      <th>Td</th>\n",
       "      <th>Sub</th>\n",
       "      <th>Weight class</th>\n",
       "      <th>Method</th>\n",
       "      <th>Round</th>\n",
       "      <th>Time</th>\n",
       "    </tr>\n",
       "  </thead>\n",
       "  <tbody>\n",
       "    <tr>\n",
       "      <th>0</th>\n",
       "      <td>win</td>\n",
       "      <td>Cory Sandhagen  Song Yadong</td>\n",
       "      <td>0  0</td>\n",
       "      <td>94  54</td>\n",
       "      <td>1  2</td>\n",
       "      <td>0  0</td>\n",
       "      <td>Bantamweight</td>\n",
       "      <td>KO/TKO</td>\n",
       "      <td>4</td>\n",
       "      <td>5:00</td>\n",
       "    </tr>\n",
       "    <tr>\n",
       "      <th>1</th>\n",
       "      <td>win</td>\n",
       "      <td>Gregory Rodrigues  Chidi Njokuani</td>\n",
       "      <td>1  0</td>\n",
       "      <td>48  44</td>\n",
       "      <td>1  0</td>\n",
       "      <td>0  0</td>\n",
       "      <td>Middleweight</td>\n",
       "      <td>KO/TKO  Punches</td>\n",
       "      <td>2</td>\n",
       "      <td>1:27</td>\n",
       "    </tr>\n",
       "    <tr>\n",
       "      <th>2</th>\n",
       "      <td>win</td>\n",
       "      <td>Andre Fili  Bill Algeo</td>\n",
       "      <td>0  0</td>\n",
       "      <td>59  81</td>\n",
       "      <td>1  0</td>\n",
       "      <td>2  0</td>\n",
       "      <td>Featherweight</td>\n",
       "      <td>S-DEC</td>\n",
       "      <td>3</td>\n",
       "      <td>5:00</td>\n",
       "    </tr>\n",
       "    <tr>\n",
       "      <th>3</th>\n",
       "      <td>win</td>\n",
       "      <td>Joe Pyfer  Alen Amedovski</td>\n",
       "      <td>1  0</td>\n",
       "      <td>14  11</td>\n",
       "      <td>0  0</td>\n",
       "      <td>0  0</td>\n",
       "      <td>Middleweight</td>\n",
       "      <td>KO/TKO  Punch</td>\n",
       "      <td>1</td>\n",
       "      <td>3:55</td>\n",
       "    </tr>\n",
       "    <tr>\n",
       "      <th>4</th>\n",
       "      <td>win</td>\n",
       "      <td>Rodrigo Nascimento  Tanner Boser</td>\n",
       "      <td>0  0</td>\n",
       "      <td>36  62</td>\n",
       "      <td>3  0</td>\n",
       "      <td>1  0</td>\n",
       "      <td>Heavyweight</td>\n",
       "      <td>S-DEC</td>\n",
       "      <td>3</td>\n",
       "      <td>5:00</td>\n",
       "    </tr>\n",
       "    <tr>\n",
       "      <th>5</th>\n",
       "      <td>win</td>\n",
       "      <td>Anthony Hernandez  Marc-Andre Barriault</td>\n",
       "      <td>0  0</td>\n",
       "      <td>39  25</td>\n",
       "      <td>8  0</td>\n",
       "      <td>2  0</td>\n",
       "      <td>Middleweight</td>\n",
       "      <td>SUB  Arm Triangle</td>\n",
       "      <td>3</td>\n",
       "      <td>1:53</td>\n",
       "    </tr>\n",
       "    <tr>\n",
       "      <th>6</th>\n",
       "      <td>win</td>\n",
       "      <td>Damon Jackson  Pat Sabatini</td>\n",
       "      <td>0  0</td>\n",
       "      <td>11  1</td>\n",
       "      <td>1  0</td>\n",
       "      <td>0  0</td>\n",
       "      <td>Featherweight</td>\n",
       "      <td>KO/TKO  Punches</td>\n",
       "      <td>1</td>\n",
       "      <td>1:09</td>\n",
       "    </tr>\n",
       "    <tr>\n",
       "      <th>7</th>\n",
       "      <td>win</td>\n",
       "      <td>Trevin Giles  Louis Cosce</td>\n",
       "      <td>0  0</td>\n",
       "      <td>25  10</td>\n",
       "      <td>2  1</td>\n",
       "      <td>0  1</td>\n",
       "      <td>Welterweight</td>\n",
       "      <td>U-DEC</td>\n",
       "      <td>3</td>\n",
       "      <td>5:00</td>\n",
       "    </tr>\n",
       "    <tr>\n",
       "      <th>8</th>\n",
       "      <td>win</td>\n",
       "      <td>Loma Lookboonmee  Denise Gomes</td>\n",
       "      <td>0  0</td>\n",
       "      <td>48  19</td>\n",
       "      <td>4  0</td>\n",
       "      <td>0  3</td>\n",
       "      <td>Women's Strawweight</td>\n",
       "      <td>U-DEC</td>\n",
       "      <td>3</td>\n",
       "      <td>5:00</td>\n",
       "    </tr>\n",
       "    <tr>\n",
       "      <th>9</th>\n",
       "      <td>win</td>\n",
       "      <td>Trey Ogden  Daniel Zellhuber</td>\n",
       "      <td>0  0</td>\n",
       "      <td>71  52</td>\n",
       "      <td>1  0</td>\n",
       "      <td>0  0</td>\n",
       "      <td>Lightweight</td>\n",
       "      <td>U-DEC</td>\n",
       "      <td>3</td>\n",
       "      <td>5:00</td>\n",
       "    </tr>\n",
       "    <tr>\n",
       "      <th>10</th>\n",
       "      <td>win</td>\n",
       "      <td>Gillian Robertson  Mariya Agapova</td>\n",
       "      <td>0  0</td>\n",
       "      <td>4  39</td>\n",
       "      <td>3  0</td>\n",
       "      <td>1  1</td>\n",
       "      <td>Women's Flyweight</td>\n",
       "      <td>SUB  Rear Naked Choke</td>\n",
       "      <td>2</td>\n",
       "      <td>2:19</td>\n",
       "    </tr>\n",
       "    <tr>\n",
       "      <th>11</th>\n",
       "      <td>win</td>\n",
       "      <td>Javid Basharat  Tony Gravely</td>\n",
       "      <td>0  0</td>\n",
       "      <td>80  33</td>\n",
       "      <td>2  2</td>\n",
       "      <td>0  0</td>\n",
       "      <td>Bantamweight</td>\n",
       "      <td>U-DEC</td>\n",
       "      <td>3</td>\n",
       "      <td>5:00</td>\n",
       "    </tr>\n",
       "    <tr>\n",
       "      <th>12</th>\n",
       "      <td>win</td>\n",
       "      <td>Nikolas Motta  Cameron VanCamp</td>\n",
       "      <td>1  0</td>\n",
       "      <td>24  15</td>\n",
       "      <td>0  0</td>\n",
       "      <td>0  0</td>\n",
       "      <td>Lightweight</td>\n",
       "      <td>KO/TKO  Punch</td>\n",
       "      <td>1</td>\n",
       "      <td>3:49</td>\n",
       "    </tr>\n",
       "    <tr>\n",
       "      <th>13</th>\n",
       "      <td>win</td>\n",
       "      <td>Nate Diaz  Tony Ferguson</td>\n",
       "      <td>0  0</td>\n",
       "      <td>101  80</td>\n",
       "      <td>0  1</td>\n",
       "      <td>1  0</td>\n",
       "      <td>Welterweight</td>\n",
       "      <td>SUB  Guillotine Choke</td>\n",
       "      <td>4</td>\n",
       "      <td>2:52</td>\n",
       "    </tr>\n",
       "    <tr>\n",
       "      <th>14</th>\n",
       "      <td>win</td>\n",
       "      <td>Khamzat Chimaev  Kevin Holland</td>\n",
       "      <td>0  0</td>\n",
       "      <td>0  0</td>\n",
       "      <td>2  0</td>\n",
       "      <td>2  0</td>\n",
       "      <td>Catch Weight</td>\n",
       "      <td>SUB  D'Arce Choke</td>\n",
       "      <td>1</td>\n",
       "      <td>2:13</td>\n",
       "    </tr>\n",
       "    <tr>\n",
       "      <th>15</th>\n",
       "      <td>win</td>\n",
       "      <td>Daniel Rodriguez  Li Jingliang</td>\n",
       "      <td>0  0</td>\n",
       "      <td>88  78</td>\n",
       "      <td>0  1</td>\n",
       "      <td>0  0</td>\n",
       "      <td>Catch Weight</td>\n",
       "      <td>S-DEC</td>\n",
       "      <td>3</td>\n",
       "      <td>5:00</td>\n",
       "    </tr>\n",
       "    <tr>\n",
       "      <th>16</th>\n",
       "      <td>win</td>\n",
       "      <td>Irene Aldana  Macy Chiasson</td>\n",
       "      <td>1  0</td>\n",
       "      <td>37  39</td>\n",
       "      <td>0  3</td>\n",
       "      <td>2  0</td>\n",
       "      <td>Catch Weight</td>\n",
       "      <td>KO/TKO  Kick</td>\n",
       "      <td>3</td>\n",
       "      <td>2:21</td>\n",
       "    </tr>\n",
       "    <tr>\n",
       "      <th>17</th>\n",
       "      <td>win</td>\n",
       "      <td>Johnny Walker  Ion Cutelaba</td>\n",
       "      <td>0  0</td>\n",
       "      <td>3  3</td>\n",
       "      <td>1  1</td>\n",
       "      <td>3  0</td>\n",
       "      <td>Light Heavyweight</td>\n",
       "      <td>SUB  Rear Naked Choke</td>\n",
       "      <td>1</td>\n",
       "      <td>4:37</td>\n",
       "    </tr>\n",
       "    <tr>\n",
       "      <th>18</th>\n",
       "      <td>win</td>\n",
       "      <td>Julian Erosa  Hakeem Dawodu</td>\n",
       "      <td>0  0</td>\n",
       "      <td>92  74</td>\n",
       "      <td>2  0</td>\n",
       "      <td>0  0</td>\n",
       "      <td>Featherweight</td>\n",
       "      <td>U-DEC</td>\n",
       "      <td>3</td>\n",
       "      <td>5:00</td>\n",
       "    </tr>\n",
       "    <tr>\n",
       "      <th>19</th>\n",
       "      <td>win</td>\n",
       "      <td>Jailton Almeida  Anton Turkalj</td>\n",
       "      <td>0  0</td>\n",
       "      <td>17  1</td>\n",
       "      <td>3  0</td>\n",
       "      <td>2  0</td>\n",
       "      <td>Catch Weight</td>\n",
       "      <td>SUB  Rear Naked Choke</td>\n",
       "      <td>1</td>\n",
       "      <td>4:27</td>\n",
       "    </tr>\n",
       "    <tr>\n",
       "      <th>20</th>\n",
       "      <td>win</td>\n",
       "      <td>Denis Tiuliulin  Jamie Pickett</td>\n",
       "      <td>2  0</td>\n",
       "      <td>73  60</td>\n",
       "      <td>0  0</td>\n",
       "      <td>0  0</td>\n",
       "      <td>Middleweight</td>\n",
       "      <td>KO/TKO  Punches</td>\n",
       "      <td>2</td>\n",
       "      <td>4:52</td>\n",
       "    </tr>\n",
       "    <tr>\n",
       "      <th>21</th>\n",
       "      <td>win</td>\n",
       "      <td>Chris Barnett  Jake Collier</td>\n",
       "      <td>0  1</td>\n",
       "      <td>54  51</td>\n",
       "      <td>0  1</td>\n",
       "      <td>0  1</td>\n",
       "      <td>Heavyweight</td>\n",
       "      <td>KO/TKO  Punches</td>\n",
       "      <td>2</td>\n",
       "      <td>2:24</td>\n",
       "    </tr>\n",
       "    <tr>\n",
       "      <th>22</th>\n",
       "      <td>win</td>\n",
       "      <td>Norma Dumont  Danyelle Wolf</td>\n",
       "      <td>1  0</td>\n",
       "      <td>52  20</td>\n",
       "      <td>2  0</td>\n",
       "      <td>0  0</td>\n",
       "      <td>Women's Featherweight</td>\n",
       "      <td>U-DEC</td>\n",
       "      <td>3</td>\n",
       "      <td>5:00</td>\n",
       "    </tr>\n",
       "    <tr>\n",
       "      <th>23</th>\n",
       "      <td>win</td>\n",
       "      <td>Alatengheili  Chad Anheliger</td>\n",
       "      <td>0  0</td>\n",
       "      <td>49  39</td>\n",
       "      <td>2  0</td>\n",
       "      <td>0  0</td>\n",
       "      <td>Bantamweight</td>\n",
       "      <td>U-DEC</td>\n",
       "      <td>3</td>\n",
       "      <td>5:00</td>\n",
       "    </tr>\n",
       "    <tr>\n",
       "      <th>24</th>\n",
       "      <td>win</td>\n",
       "      <td>Elise Reed  Melissa Martinez</td>\n",
       "      <td>1  0</td>\n",
       "      <td>38  45</td>\n",
       "      <td>3  1</td>\n",
       "      <td>0  0</td>\n",
       "      <td>Women's Strawweight</td>\n",
       "      <td>U-DEC</td>\n",
       "      <td>3</td>\n",
       "      <td>5:00</td>\n",
       "    </tr>\n",
       "    <tr>\n",
       "      <th>25</th>\n",
       "      <td>win</td>\n",
       "      <td>Yohan Lainesse  Darian Weeks</td>\n",
       "      <td>0  0</td>\n",
       "      <td>23  44</td>\n",
       "      <td>0  1</td>\n",
       "      <td>0  0</td>\n",
       "      <td>Welterweight</td>\n",
       "      <td>S-DEC</td>\n",
       "      <td>3</td>\n",
       "      <td>5:00</td>\n",
       "    </tr>\n",
       "  </tbody>\n",
       "</table>\n",
       "</div>"
      ],
      "text/plain": [
       "    W/L                                  Fighter    Kd      Str    Td   Sub  \\\n",
       "0   win              Cory Sandhagen  Song Yadong  0  0   94  54  1  2  0  0   \n",
       "1   win        Gregory Rodrigues  Chidi Njokuani  1  0   48  44  1  0  0  0   \n",
       "2   win                   Andre Fili  Bill Algeo  0  0   59  81  1  0  2  0   \n",
       "3   win                Joe Pyfer  Alen Amedovski  1  0   14  11  0  0  0  0   \n",
       "4   win         Rodrigo Nascimento  Tanner Boser  0  0   36  62  3  0  1  0   \n",
       "5   win  Anthony Hernandez  Marc-Andre Barriault  0  0   39  25  8  0  2  0   \n",
       "6   win              Damon Jackson  Pat Sabatini  0  0    11  1  1  0  0  0   \n",
       "7   win                Trevin Giles  Louis Cosce  0  0   25  10  2  1  0  1   \n",
       "8   win           Loma Lookboonmee  Denise Gomes  0  0   48  19  4  0  0  3   \n",
       "9   win             Trey Ogden  Daniel Zellhuber  0  0   71  52  1  0  0  0   \n",
       "10  win        Gillian Robertson  Mariya Agapova  0  0    4  39  3  0  1  1   \n",
       "11  win             Javid Basharat  Tony Gravely  0  0   80  33  2  2  0  0   \n",
       "12  win           Nikolas Motta  Cameron VanCamp  1  0   24  15  0  0  0  0   \n",
       "13  win                 Nate Diaz  Tony Ferguson  0  0  101  80  0  1  1  0   \n",
       "14  win           Khamzat Chimaev  Kevin Holland  0  0     0  0  2  0  2  0   \n",
       "15  win           Daniel Rodriguez  Li Jingliang  0  0   88  78  0  1  0  0   \n",
       "16  win              Irene Aldana  Macy Chiasson  1  0   37  39  0  3  2  0   \n",
       "17  win              Johnny Walker  Ion Cutelaba  0  0     3  3  1  1  3  0   \n",
       "18  win              Julian Erosa  Hakeem Dawodu  0  0   92  74  2  0  0  0   \n",
       "19  win           Jailton Almeida  Anton Turkalj  0  0    17  1  3  0  2  0   \n",
       "20  win           Denis Tiuliulin  Jamie Pickett  2  0   73  60  0  0  0  0   \n",
       "21  win              Chris Barnett  Jake Collier  0  1   54  51  0  1  0  1   \n",
       "22  win              Norma Dumont  Danyelle Wolf  1  0   52  20  2  0  0  0   \n",
       "23  win             Alatengheili  Chad Anheliger  0  0   49  39  2  0  0  0   \n",
       "24  win             Elise Reed  Melissa Martinez  1  0   38  45  3  1  0  0   \n",
       "25  win             Yohan Lainesse  Darian Weeks  0  0   23  44  0  1  0  0   \n",
       "\n",
       "             Weight class                 Method  Round  Time  \n",
       "0            Bantamweight                 KO/TKO      4  5:00  \n",
       "1            Middleweight        KO/TKO  Punches      2  1:27  \n",
       "2           Featherweight                  S-DEC      3  5:00  \n",
       "3            Middleweight          KO/TKO  Punch      1  3:55  \n",
       "4             Heavyweight                  S-DEC      3  5:00  \n",
       "5            Middleweight      SUB  Arm Triangle      3  1:53  \n",
       "6           Featherweight        KO/TKO  Punches      1  1:09  \n",
       "7            Welterweight                  U-DEC      3  5:00  \n",
       "8     Women's Strawweight                  U-DEC      3  5:00  \n",
       "9             Lightweight                  U-DEC      3  5:00  \n",
       "10      Women's Flyweight  SUB  Rear Naked Choke      2  2:19  \n",
       "11           Bantamweight                  U-DEC      3  5:00  \n",
       "12            Lightweight          KO/TKO  Punch      1  3:49  \n",
       "13           Welterweight  SUB  Guillotine Choke      4  2:52  \n",
       "14           Catch Weight      SUB  D'Arce Choke      1  2:13  \n",
       "15           Catch Weight                  S-DEC      3  5:00  \n",
       "16           Catch Weight           KO/TKO  Kick      3  2:21  \n",
       "17      Light Heavyweight  SUB  Rear Naked Choke      1  4:37  \n",
       "18          Featherweight                  U-DEC      3  5:00  \n",
       "19           Catch Weight  SUB  Rear Naked Choke      1  4:27  \n",
       "20           Middleweight        KO/TKO  Punches      2  4:52  \n",
       "21            Heavyweight        KO/TKO  Punches      2  2:24  \n",
       "22  Women's Featherweight                  U-DEC      3  5:00  \n",
       "23           Bantamweight                  U-DEC      3  5:00  \n",
       "24    Women's Strawweight                  U-DEC      3  5:00  \n",
       "25           Welterweight                  S-DEC      3  5:00  "
      ]
     },
     "execution_count": 278,
     "metadata": {},
     "output_type": "execute_result"
    }
   ],
   "source": [
    "df.index = range(len(df))\n",
    "df.to_csv(index=None, header=True, sep=',')\n",
    "df"
   ]
  },
  {
   "cell_type": "code",
   "execution_count": 262,
   "id": "6cb905e7",
   "metadata": {},
   "outputs": [
    {
     "data": {
      "text/plain": [
       "W/L                                          win\n",
       "Fighter         Abus Magomedov  Dustin Stoltzfus\n",
       "Kd                                          1  0\n",
       "Str                                         7  0\n",
       "Td                                          0  0\n",
       "Sub                                         0  0\n",
       "Weight class                        Middleweight\n",
       "Method                           KO/TKO  Punches\n",
       "Round                                          1\n",
       "Time                                        0:19\n",
       "Name: 6, dtype: object"
      ]
     },
     "execution_count": 262,
     "metadata": {},
     "output_type": "execute_result"
    }
   ],
   "source": [
    "df_page.iloc[32]"
   ]
  }
 ],
 "metadata": {
  "kernelspec": {
   "display_name": "Python 3 (ipykernel)",
   "language": "python",
   "name": "python3"
  },
  "language_info": {
   "codemirror_mode": {
    "name": "ipython",
    "version": 3
   },
   "file_extension": ".py",
   "mimetype": "text/x-python",
   "name": "python",
   "nbconvert_exporter": "python",
   "pygments_lexer": "ipython3",
   "version": "3.9.0"
  }
 },
 "nbformat": 4,
 "nbformat_minor": 5
}

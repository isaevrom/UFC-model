{
 "cells": [
  {
   "cell_type": "code",
   "execution_count": 1,
   "id": "876a8d30",
   "metadata": {},
   "outputs": [],
   "source": [
    "def display_img(src, description=None, is_src_url=False):\n",
    "    from IPython.display import Image\n",
    "    from IPython.core.display import HTML \n",
    "    if description is not None: print(description)\n",
    "    if is_src_url:\n",
    "        display(Image(url=src))\n",
    "    else:\n",
    "        display(Image(filename=src))"
   ]
  },
  {
   "cell_type": "code",
   "execution_count": 49,
   "id": "fb77d427",
   "metadata": {},
   "outputs": [],
   "source": [
    "import requests as rq\n",
    "from bs4 import BeautifulSoup\n",
    "import re"
   ]
  },
  {
   "cell_type": "code",
   "execution_count": 183,
   "id": "cebb3001",
   "metadata": {},
   "outputs": [],
   "source": [
    "page = rq.get('http://ufcstats.com/fighter-details/e8b731feff72294b')\n",
    "page.text\n",
    "soup = BeautifulSoup(page.text, 'html.parser')\n",
    "results = soup.findAll('li', class_='b-list__box-list-item b-list__box-list-item_type_block')"
   ]
  },
  {
   "cell_type": "code",
   "execution_count": 192,
   "id": "8d44df23",
   "metadata": {},
   "outputs": [],
   "source": [
    "def get_key_value(s):\n",
    "    s = s.replace('\\n', '')\n",
    "    print('splitting: ' + s)\n",
    "    key, value = s.split(':', 1)\n",
    "    key = key.strip(' ')\n",
    "    value = value.strip(' ')\n",
    "    return key, value"
   ]
  },
  {
   "cell_type": "code",
   "execution_count": 193,
   "id": "0e647426",
   "metadata": {},
   "outputs": [
    {
     "name": "stdout",
     "output_type": "stream",
     "text": [
      "splitting:         Height:            5' 5\"    \n"
     ]
    },
    {
     "data": {
      "text/plain": [
       "('Height', '5\\' 5\"')"
      ]
     },
     "execution_count": 193,
     "metadata": {},
     "output_type": "execute_result"
    }
   ],
   "source": [
    "get_key_value(results[0].text)"
   ]
  },
  {
   "cell_type": "code",
   "execution_count": 194,
   "id": "00074701",
   "metadata": {},
   "outputs": [
    {
     "data": {
      "text/plain": [
       "[<li class=\"b-list__box-list-item b-list__box-list-item_type_block\">\n",
       " <i class=\"b-list__box-item-title b-list__box-item-title_type_width\">\n",
       "         Height:\n",
       "       </i>\n",
       "       5' 5\"\n",
       "     </li>,\n",
       " <li class=\"b-list__box-list-item b-list__box-list-item_type_block\">\n",
       " <i class=\"b-list__box-item-title b-list__box-item-title_type_width\">\n",
       "         Weight:\n",
       "       </i>\n",
       "       125 lbs.\n",
       "     </li>,\n",
       " <li class=\"b-list__box-list-item b-list__box-list-item_type_block\">\n",
       " <i class=\"b-list__box-item-title b-list__box-item-title_type_width\">\n",
       "         Reach:\n",
       "       </i>\n",
       "       66\"\n",
       "     </li>,\n",
       " <li class=\"b-list__box-list-item b-list__box-list-item_type_block\">\n",
       " <i class=\"b-list__box-item-title b-list__box-item-title_type_width\">\n",
       "         STANCE:\n",
       "       </i>\n",
       "       Orthodox\n",
       "     </li>,\n",
       " <li class=\"b-list__box-list-item b-list__box-list-item_type_block\">\n",
       " <i class=\"b-list__box-item-title b-list__box-item-title_type_width\">\n",
       "         DOB:\n",
       "       </i>\n",
       "       \n",
       "         Aug 09, 1993\n",
       "       \n",
       "     </li>,\n",
       " <li class=\"b-list__box-list-item b-list__box-list-item_type_block\">\n",
       " <i class=\"b-list__box-item-title b-list__box-item-title_font_lowercase b-list__box-item-title_type_width\">\n",
       "             SLpM:\n",
       "           </i>\n",
       " \n",
       "           5.14\n",
       " \n",
       "         </li>,\n",
       " <li class=\"b-list__box-list-item b-list__box-list-item_type_block\">\n",
       " <i class=\"b-list__box-item-title b-list__box-item-title_font_lowercase b-list__box-item-title_type_width\">\n",
       "             Str. Acc.:\n",
       "           </i>\n",
       "           44%\n",
       "         </li>,\n",
       " <li class=\"b-list__box-list-item b-list__box-list-item_type_block\">\n",
       " <i class=\"b-list__box-item-title b-list__box-item-title_font_lowercase b-list__box-item-title_type_width\">\n",
       "             SApM:\n",
       "           </i>\n",
       "           4.02\n",
       "         </li>,\n",
       " <li class=\"b-list__box-list-item b-list__box-list-item_type_block\">\n",
       " <i class=\"b-list__box-item-title b-list__box-item-title_font_lowercase b-list__box-item-title_type_width\">\n",
       "             Str. Def:\n",
       "           </i>\n",
       "           61%\n",
       "         </li>,\n",
       " <li class=\"b-list__box-list-item b-list__box-list-item_type_block\">\n",
       " <i class=\"b-list__box-item-title b-list__box-item-title_type_width\">\n",
       " </i>\n",
       " </li>,\n",
       " <li class=\"b-list__box-list-item b-list__box-list-item_type_block\">\n",
       " <i class=\"b-list__box-item-title b-list__box-item-title_font_lowercase b-list__box-item-title_type_width\">\n",
       "             TD Avg.:\n",
       "           </i>\n",
       "           0.44\n",
       "         </li>,\n",
       " <li class=\"b-list__box-list-item b-list__box-list-item_type_block\">\n",
       " <i class=\"b-list__box-item-title b-list__box-item-title_font_lowercase b-list__box-item-title_type_width\">\n",
       "             TD Acc.:\n",
       "           </i>\n",
       "           57%\n",
       "         </li>,\n",
       " <li class=\"b-list__box-list-item b-list__box-list-item_type_block\">\n",
       " <i class=\"b-list__box-item-title b-list__box-item-title_font_lowercase b-list__box-item-title_type_width\">\n",
       "             TD Def.:\n",
       "           </i>\n",
       "           64%\n",
       "         </li>,\n",
       " <li class=\"b-list__box-list-item b-list__box-list-item_type_block\">\n",
       " <i class=\"b-list__box-item-title b-list__box-item-title_font_lowercase b-list__box-item-title_type_width\">\n",
       "             Sub. Avg.:\n",
       "           </i>\n",
       "           0.6\n",
       "         </li>]"
      ]
     },
     "execution_count": 194,
     "metadata": {},
     "output_type": "execute_result"
    }
   ],
   "source": [
    "results"
   ]
  },
  {
   "cell_type": "code",
   "execution_count": null,
   "id": "6a9c61ba",
   "metadata": {},
   "outputs": [],
   "source": []
  },
  {
   "cell_type": "code",
   "execution_count": 197,
   "id": "ad7fa3f9",
   "metadata": {},
   "outputs": [
    {
     "data": {
      "text/plain": [
       "[<li class=\"b-list__box-list-item b-list__box-list-item_type_block\">\n",
       " <i class=\"b-list__box-item-title b-list__box-item-title_type_width\">\n",
       "         Height:\n",
       "       </i>\n",
       "       5' 5\"\n",
       "     </li>,\n",
       " <li class=\"b-list__box-list-item b-list__box-list-item_type_block\">\n",
       " <i class=\"b-list__box-item-title b-list__box-item-title_type_width\">\n",
       "         Weight:\n",
       "       </i>\n",
       "       125 lbs.\n",
       "     </li>,\n",
       " <li class=\"b-list__box-list-item b-list__box-list-item_type_block\">\n",
       " <i class=\"b-list__box-item-title b-list__box-item-title_type_width\">\n",
       "         Reach:\n",
       "       </i>\n",
       "       66\"\n",
       "     </li>,\n",
       " <li class=\"b-list__box-list-item b-list__box-list-item_type_block\">\n",
       " <i class=\"b-list__box-item-title b-list__box-item-title_type_width\">\n",
       "         STANCE:\n",
       "       </i>\n",
       "       Orthodox\n",
       "     </li>,\n",
       " <li class=\"b-list__box-list-item b-list__box-list-item_type_block\">\n",
       " <i class=\"b-list__box-item-title b-list__box-item-title_type_width\">\n",
       "         DOB:\n",
       "       </i>\n",
       "       \n",
       "         Aug 09, 1993\n",
       "       \n",
       "     </li>,\n",
       " <li class=\"b-list__box-list-item b-list__box-list-item_type_block\">\n",
       " <i class=\"b-list__box-item-title b-list__box-item-title_font_lowercase b-list__box-item-title_type_width\">\n",
       "             SLpM:\n",
       "           </i>\n",
       " \n",
       "           5.14\n",
       " \n",
       "         </li>,\n",
       " <li class=\"b-list__box-list-item b-list__box-list-item_type_block\">\n",
       " <i class=\"b-list__box-item-title b-list__box-item-title_font_lowercase b-list__box-item-title_type_width\">\n",
       "             Str. Acc.:\n",
       "           </i>\n",
       "           44%\n",
       "         </li>,\n",
       " <li class=\"b-list__box-list-item b-list__box-list-item_type_block\">\n",
       " <i class=\"b-list__box-item-title b-list__box-item-title_font_lowercase b-list__box-item-title_type_width\">\n",
       "             SApM:\n",
       "           </i>\n",
       "           4.02\n",
       "         </li>,\n",
       " <li class=\"b-list__box-list-item b-list__box-list-item_type_block\">\n",
       " <i class=\"b-list__box-item-title b-list__box-item-title_font_lowercase b-list__box-item-title_type_width\">\n",
       "             Str. Def:\n",
       "           </i>\n",
       "           61%\n",
       "         </li>,\n",
       " <li class=\"b-list__box-list-item b-list__box-list-item_type_block\">\n",
       " <i class=\"b-list__box-item-title b-list__box-item-title_type_width\">\n",
       " </i>\n",
       " </li>,\n",
       " <li class=\"b-list__box-list-item b-list__box-list-item_type_block\">\n",
       " <i class=\"b-list__box-item-title b-list__box-item-title_font_lowercase b-list__box-item-title_type_width\">\n",
       "             TD Avg.:\n",
       "           </i>\n",
       "           0.44\n",
       "         </li>,\n",
       " <li class=\"b-list__box-list-item b-list__box-list-item_type_block\">\n",
       " <i class=\"b-list__box-item-title b-list__box-item-title_font_lowercase b-list__box-item-title_type_width\">\n",
       "             TD Acc.:\n",
       "           </i>\n",
       "           57%\n",
       "         </li>,\n",
       " <li class=\"b-list__box-list-item b-list__box-list-item_type_block\">\n",
       " <i class=\"b-list__box-item-title b-list__box-item-title_font_lowercase b-list__box-item-title_type_width\">\n",
       "             TD Def.:\n",
       "           </i>\n",
       "           64%\n",
       "         </li>,\n",
       " <li class=\"b-list__box-list-item b-list__box-list-item_type_block\">\n",
       " <i class=\"b-list__box-item-title b-list__box-item-title_font_lowercase b-list__box-item-title_type_width\">\n",
       "             Sub. Avg.:\n",
       "           </i>\n",
       "           0.6\n",
       "         </li>]"
      ]
     },
     "execution_count": 197,
     "metadata": {},
     "output_type": "execute_result"
    }
   ],
   "source": [
    "results"
   ]
  },
  {
   "cell_type": "code",
   "execution_count": 196,
   "id": "d3f02032",
   "metadata": {},
   "outputs": [
    {
     "name": "stdout",
     "output_type": "stream",
     "text": [
      "\n",
      "\n",
      "        Height:\n",
      "      \n",
      "      5' 5\"\n",
      "    \n",
      "splitting:         Height:            5' 5\"    \n",
      "\n",
      "\n",
      "        Weight:\n",
      "      \n",
      "      125 lbs.\n",
      "    \n",
      "splitting:         Weight:            125 lbs.    \n",
      "\n",
      "\n",
      "        Reach:\n",
      "      \n",
      "      66\"\n",
      "    \n",
      "splitting:         Reach:            66\"    \n",
      "\n",
      "\n",
      "        STANCE:\n",
      "      \n",
      "      Orthodox\n",
      "    \n",
      "splitting:         STANCE:            Orthodox    \n",
      "\n",
      "\n",
      "        DOB:\n",
      "      \n",
      "      \n",
      "        Aug 09, 1993\n",
      "      \n",
      "    \n",
      "splitting:         DOB:                    Aug 09, 1993          \n",
      "\n",
      "\n",
      "            SLpM:\n",
      "          \n",
      "\n",
      "          5.14\n",
      "\n",
      "        \n",
      "splitting:             SLpM:                    5.14        \n",
      "\n",
      "\n",
      "            Str. Acc.:\n",
      "          \n",
      "          44%\n",
      "        \n",
      "splitting:             Str. Acc.:                    44%        \n",
      "\n",
      "\n",
      "            SApM:\n",
      "          \n",
      "          4.02\n",
      "        \n",
      "splitting:             SApM:                    4.02        \n",
      "\n",
      "\n",
      "            Str. Def:\n",
      "          \n",
      "          61%\n",
      "        \n",
      "splitting:             Str. Def:                    61%        \n",
      "\n",
      "\n",
      "\n",
      "\n",
      "splitting: \n"
     ]
    },
    {
     "ename": "ValueError",
     "evalue": "not enough values to unpack (expected 2, got 1)",
     "output_type": "error",
     "traceback": [
      "\u001b[0;31m---------------------------------------------------------------------------\u001b[0m",
      "\u001b[0;31mValueError\u001b[0m                                Traceback (most recent call last)",
      "Cell \u001b[0;32mIn [196], line 3\u001b[0m\n\u001b[1;32m      1\u001b[0m \u001b[38;5;28;01mfor\u001b[39;00m res \u001b[38;5;129;01min\u001b[39;00m results:\n\u001b[1;32m      2\u001b[0m     \u001b[38;5;28mprint\u001b[39m(res\u001b[38;5;241m.\u001b[39mtext)\n\u001b[0;32m----> 3\u001b[0m     get_key_value(res\u001b[38;5;241m.\u001b[39mtext)\n",
      "Cell \u001b[0;32mIn [192], line 4\u001b[0m, in \u001b[0;36mget_key_value\u001b[0;34m(s)\u001b[0m\n\u001b[1;32m      2\u001b[0m s \u001b[38;5;241m=\u001b[39m s\u001b[38;5;241m.\u001b[39mreplace(\u001b[38;5;124m'\u001b[39m\u001b[38;5;130;01m\\n\u001b[39;00m\u001b[38;5;124m'\u001b[39m, \u001b[38;5;124m'\u001b[39m\u001b[38;5;124m'\u001b[39m)\n\u001b[1;32m      3\u001b[0m \u001b[38;5;28mprint\u001b[39m(\u001b[38;5;124m'\u001b[39m\u001b[38;5;124msplitting: \u001b[39m\u001b[38;5;124m'\u001b[39m \u001b[38;5;241m+\u001b[39m s)\n\u001b[0;32m----> 4\u001b[0m key, value \u001b[38;5;241m=\u001b[39m s\u001b[38;5;241m.\u001b[39msplit(\u001b[38;5;124m'\u001b[39m\u001b[38;5;124m:\u001b[39m\u001b[38;5;124m'\u001b[39m, \u001b[38;5;241m1\u001b[39m)\n\u001b[1;32m      5\u001b[0m key \u001b[38;5;241m=\u001b[39m key\u001b[38;5;241m.\u001b[39mstrip(\u001b[38;5;124m'\u001b[39m\u001b[38;5;124m \u001b[39m\u001b[38;5;124m'\u001b[39m)\n\u001b[1;32m      6\u001b[0m value \u001b[38;5;241m=\u001b[39m value\u001b[38;5;241m.\u001b[39mstrip(\u001b[38;5;124m'\u001b[39m\u001b[38;5;124m \u001b[39m\u001b[38;5;124m'\u001b[39m)\n",
      "\u001b[0;31mValueError\u001b[0m: not enough values to unpack (expected 2, got 1)"
     ]
    }
   ],
   "source": [
    "for res in results:\n",
    "    print(res.text)\n",
    "    get_key_value(res.text)"
   ]
  },
  {
   "cell_type": "code",
   "execution_count": 123,
   "id": "8e118030",
   "metadata": {},
   "outputs": [
    {
     "data": {
      "text/plain": [
       "'\\n\\n      5\\' 5\"\\n    '"
      ]
     },
     "execution_count": 123,
     "metadata": {},
     "output_type": "execute_result"
    }
   ],
   "source": [
    "tmp = results[0]\n",
    "tmp.find('i').decompose()\n",
    "tmp.text"
   ]
  },
  {
   "cell_type": "code",
   "execution_count": 99,
   "id": "6d5cd444",
   "metadata": {},
   "outputs": [
    {
     "data": {
      "text/plain": [
       "'Height:'"
      ]
     },
     "execution_count": 99,
     "metadata": {},
     "output_type": "execute_result"
    }
   ],
   "source": [
    "results[0].find('i').text.strip()"
   ]
  },
  {
   "cell_type": "code",
   "execution_count": 100,
   "id": "aa237ee8",
   "metadata": {},
   "outputs": [],
   "source": [
    "features = []\n",
    "values = []"
   ]
  },
  {
   "cell_type": "code",
   "execution_count": null,
   "id": "54b9b645",
   "metadata": {},
   "outputs": [],
   "source": [
    "for "
   ]
  }
 ],
 "metadata": {
  "kernelspec": {
   "display_name": "Python 3 (ipykernel)",
   "language": "python",
   "name": "python3"
  },
  "language_info": {
   "codemirror_mode": {
    "name": "ipython",
    "version": 3
   },
   "file_extension": ".py",
   "mimetype": "text/x-python",
   "name": "python",
   "nbconvert_exporter": "python",
   "pygments_lexer": "ipython3",
   "version": "3.9.0"
  }
 },
 "nbformat": 4,
 "nbformat_minor": 5
}

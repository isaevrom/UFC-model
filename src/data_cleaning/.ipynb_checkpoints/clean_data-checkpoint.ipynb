{
 "cells": [
  {
   "cell_type": "code",
   "execution_count": 2,
   "id": "d7c29653",
   "metadata": {},
   "outputs": [],
   "source": [
    "import pandas as pd"
   ]
  },
  {
   "cell_type": "code",
   "execution_count": 3,
   "id": "b4cc561c",
   "metadata": {},
   "outputs": [],
   "source": [
    "# df_T - fight table dataframe\n",
    "df_T = pd.read_csv('../scraping/tables/page_1')\n",
    "# df_I - additional information about a fight dataframe\n",
    "df_I = pd.read_csv('../scraping/additional_info/page_1')\n",
    "# df_F - fighters info dataframe\n",
    "df_F = pd.read_csv('../scraping/fighters/page_1')"
   ]
  },
  {
   "cell_type": "code",
   "execution_count": 32,
   "id": "f956fe92",
   "metadata": {},
   "outputs": [],
   "source": [
    "mask = df_I['winner'] == 'Draw'"
   ]
  },
  {
   "cell_type": "code",
   "execution_count": 34,
   "id": "8f50510a",
   "metadata": {},
   "outputs": [
    {
     "data": {
      "text/html": [
       "<div>\n",
       "<style scoped>\n",
       "    .dataframe tbody tr th:only-of-type {\n",
       "        vertical-align: middle;\n",
       "    }\n",
       "\n",
       "    .dataframe tbody tr th {\n",
       "        vertical-align: top;\n",
       "    }\n",
       "\n",
       "    .dataframe thead th {\n",
       "        text-align: right;\n",
       "    }\n",
       "</style>\n",
       "<table border=\"1\" class=\"dataframe\">\n",
       "  <thead>\n",
       "    <tr style=\"text-align: right;\">\n",
       "      <th></th>\n",
       "      <th>winner</th>\n",
       "      <th>weight</th>\n",
       "      <th>method</th>\n",
       "      <th>rounds</th>\n",
       "      <th>time</th>\n",
       "      <th>rounds_format</th>\n",
       "      <th>referee</th>\n",
       "    </tr>\n",
       "  </thead>\n",
       "  <tbody>\n",
       "    <tr>\n",
       "      <th>67</th>\n",
       "      <td>Draw</td>\n",
       "      <td>Featherweight Bout</td>\n",
       "      <td>Decision - Split</td>\n",
       "      <td>3</td>\n",
       "      <td>5:00</td>\n",
       "      <td>3 Rnd (5-5-5)</td>\n",
       "      <td>Mike Beltran</td>\n",
       "    </tr>\n",
       "    <tr>\n",
       "      <th>84</th>\n",
       "      <td>Draw</td>\n",
       "      <td>Bantamweight Bout</td>\n",
       "      <td>Decision - Majority</td>\n",
       "      <td>3</td>\n",
       "      <td>5:00</td>\n",
       "      <td>3 Rnd (5-5-5)</td>\n",
       "      <td>Herb Dean</td>\n",
       "    </tr>\n",
       "    <tr>\n",
       "      <th>149</th>\n",
       "      <td>Draw</td>\n",
       "      <td>Bantamweight Bout</td>\n",
       "      <td>Could Not Continue</td>\n",
       "      <td>2</td>\n",
       "      <td>3:09</td>\n",
       "      <td>3 Rnd (5-5-5)</td>\n",
       "      <td>Jason Herzog</td>\n",
       "    </tr>\n",
       "  </tbody>\n",
       "</table>\n",
       "</div>"
      ],
      "text/plain": [
       "    winner              weight               method  rounds  time  \\\n",
       "67    Draw  Featherweight Bout     Decision - Split       3  5:00   \n",
       "84    Draw   Bantamweight Bout  Decision - Majority       3  5:00   \n",
       "149   Draw   Bantamweight Bout   Could Not Continue       2  3:09   \n",
       "\n",
       "     rounds_format       referee  \n",
       "67   3 Rnd (5-5-5)  Mike Beltran  \n",
       "84   3 Rnd (5-5-5)     Herb Dean  \n",
       "149  3 Rnd (5-5-5)  Jason Herzog  "
      ]
     },
     "execution_count": 34,
     "metadata": {},
     "output_type": "execute_result"
    }
   ],
   "source": [
    "df_I[mask]"
   ]
  },
  {
   "cell_type": "code",
   "execution_count": null,
   "id": "dbdb7ec7",
   "metadata": {},
   "outputs": [],
   "source": []
  },
  {
   "cell_type": "markdown",
   "id": "c8eeaec4",
   "metadata": {},
   "source": []
  }
 ],
 "metadata": {
  "kernelspec": {
   "display_name": "Python 3 (ipykernel)",
   "language": "python",
   "name": "python3"
  },
  "language_info": {
   "codemirror_mode": {
    "name": "ipython",
    "version": 3
   },
   "file_extension": ".py",
   "mimetype": "text/x-python",
   "name": "python",
   "nbconvert_exporter": "python",
   "pygments_lexer": "ipython3",
   "version": "3.9.0"
  }
 },
 "nbformat": 4,
 "nbformat_minor": 5
}
